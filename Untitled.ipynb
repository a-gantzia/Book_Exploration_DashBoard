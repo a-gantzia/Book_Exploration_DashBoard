{
 "cells": [
  {
   "cell_type": "code",
   "execution_count": 1,
   "metadata": {},
   "outputs": [
    {
     "name": "stderr",
     "output_type": "stream",
     "text": [
      "[nltk_data] Downloading package stopwords to\n",
      "[nltk_data]     C:\\Users\\Angel\\AppData\\Roaming\\nltk_data...\n",
      "[nltk_data]   Package stopwords is already up-to-date!\n",
      "[nltk_data] Downloading package wordnet to\n",
      "[nltk_data]     C:\\Users\\Angel\\AppData\\Roaming\\nltk_data...\n",
      "[nltk_data]   Package wordnet is already up-to-date!\n",
      "<ipython-input-1-93342493b292>:23: UserWarning: \n",
      "The dash_core_components package is deprecated. Please replace\n",
      "`import dash_core_components as dcc` with `from dash import dcc`\n",
      "  import dash_core_components as dcc\n",
      "<ipython-input-1-93342493b292>:24: UserWarning: \n",
      "The dash_html_components package is deprecated. Please replace\n",
      "`import dash_html_components as html` with `from dash import html`\n",
      "  import dash_html_components as html\n"
     ]
    }
   ],
   "source": [
    "# conda install -c conda-forge sweetviz\n",
    "import pandas as pd\n",
    "import numpy as np\n",
    "import matplotlib.pyplot as plt\n",
    "%matplotlib inline\n",
    "import sweetviz as sv\n",
    "import re\n",
    "from re import sub\n",
    "from ipywidgets import interact, interactive, fixed, interact_manual\n",
    "import ipywidgets as widgets\n",
    "from wordcloud import WordCloud, STOPWORDS, ImageColorGenerator\n",
    "import nltk\n",
    "from nltk.corpus import stopwords\n",
    "nltk.download('stopwords')\n",
    "from nltk.stem import WordNetLemmatizer\n",
    "nltk.download('wordnet')\n",
    "from nltk.tokenize import word_tokenize\n",
    "from io import BytesIO\n",
    "import urllib.request\n",
    "from PIL import Image\n",
    "import plotly.express as px\n",
    "import dash\n",
    "import dash_core_components as dcc\n",
    "import dash_html_components as html\n",
    "from dash.dependencies import Input, Output\n",
    "import plotly.express as px\n",
    "import textwrap\n",
    "asyncio.set_event_loop_policy(asyncio.WindowsSelectorEventLoopPolicy())\n",
    "import sys\n",
    "from voila.app import main\n",
    "import asyncio"
   ]
  },
  {
   "cell_type": "code",
   "execution_count": 2,
   "metadata": {},
   "outputs": [],
   "source": [
    "filepath = \"D://archive\"\n",
    "df = pd.read_csv(filepath+'//goodreads_books.csv')\n",
    "#df.head(5)"
   ]
  },
  {
   "cell_type": "code",
   "execution_count": null,
   "metadata": {},
   "outputs": [],
   "source": []
  },
  {
   "cell_type": "code",
   "execution_count": 3,
   "metadata": {},
   "outputs": [],
   "source": [
    "df.dropna(subset=['date_published'], inplace = True)\n",
    "df['year'] = [re.findall('(\\d{4})', x) for x in df['date_published']]\n",
    "df['year'] = df['year'].apply(lambda x: x[0] if x else None).dropna()\n",
    "df.dropna(subset=['year'], inplace = True)"
   ]
  },
  {
   "cell_type": "code",
   "execution_count": 4,
   "metadata": {},
   "outputs": [],
   "source": [
    "df['series'] = df['series'].str.strip('()')\n",
    "#df.head()"
   ]
  },
  {
   "cell_type": "code",
   "execution_count": 5,
   "metadata": {},
   "outputs": [],
   "source": [
    "df['books_in_series'] = [len([idx for idx in x.split(',')]) \n",
    "                         if pd.notna(x) else 0 for x in df['books_in_series']]\n",
    "#df['books_in_series']"
   ]
  },
  {
   "cell_type": "code",
   "execution_count": 6,
   "metadata": {},
   "outputs": [],
   "source": [
    "df['awards'] = df['awards'].str.replace(r\"\\(.*\\)\",\"\")\n",
    "awards = df['awards'].value_counts().index.tolist()"
   ]
  },
  {
   "cell_type": "code",
   "execution_count": 7,
   "metadata": {},
   "outputs": [],
   "source": [
    "df['author'] = [[idx for idx in x.split(',')] for x in df['author']]\n",
    "#df['author']"
   ]
  },
  {
   "cell_type": "code",
   "execution_count": 8,
   "metadata": {},
   "outputs": [],
   "source": [
    "df.dropna(subset=['genre_and_votes'], inplace = True)\n",
    "df.genre_and_votes = df.genre_and_votes.str.replace('\\d+', '')\n",
    "df.genre_and_votes = df.genre_and_votes.str.replace('user', '')\n",
    "df.genre_and_votes = df.genre_and_votes.str.replace(' ', '')\n",
    "df['genre_and_votes'] = [[idx[:-1] if idx.endswith('-') else idx for idx in x.split(',')] \n",
    "                         for x in df['genre_and_votes']]"
   ]
  },
  {
   "cell_type": "code",
   "execution_count": 9,
   "metadata": {},
   "outputs": [],
   "source": [
    "df.rename(columns = {'genre_and_votes' : 'genre'}, inplace = True)\n",
    "#df['genre']"
   ]
  },
  {
   "cell_type": "code",
   "execution_count": 10,
   "metadata": {},
   "outputs": [],
   "source": [
    "genres = df['genre'].explode().value_counts().index.tolist()\n",
    "#genres"
   ]
  },
  {
   "cell_type": "code",
   "execution_count": 11,
   "metadata": {},
   "outputs": [],
   "source": [
    "sw = stopwords.words('english')\n",
    "def full_cleaning(Category,frame,col):\n",
    "    print('Please wait....')\n",
    "    mask = [Category in x for x in df['genre']]\n",
    "    newframe = frame.copy()\n",
    "    newframe = newframe[mask].astype(str)\n",
    "    text = ' '.join(newframe[col][:])\n",
    "    text = text.lower()\n",
    "    text = sub(r'\\[.*?\\]', '', text)\n",
    "    text = sub(r'([.!,?])', r' \\1 ', text)\n",
    "    text = sub(r'[^a-zA-Z.,!?]+', r' ', text)\n",
    "    # removing stopwords\n",
    "    cleanlist = [word for word in text.split() if word not in sw]\n",
    "    # lemmatizing\n",
    "    lemmatizer = WordNetLemmatizer()\n",
    "    cleantext = ' '.join([lemmatizer.lemmatize(w) for w in cleanlist])\n",
    "    return cleantext"
   ]
  },
  {
   "cell_type": "code",
   "execution_count": 12,
   "metadata": {},
   "outputs": [],
   "source": [
    "def apply_image_mask(title):\n",
    "    if title == 'summaries':\n",
    "        book_img = 'https://thumbs.dreamstime.com/b/books-cup-tea-icon-flat-style-isolated-white-background-read-drink-symbol-82478890.jpg'\n",
    "    else:\n",
    "        book_img = 'https://cdn-icons-png.flaticon.com/512/308/308184.png'\n",
    "    with urllib.request.urlopen(book_img) as url:\n",
    "        f = BytesIO(url.read())\n",
    "    img = Image.open(f)\n",
    "    mask = np.array(img)\n",
    "    img_color = ImageColorGenerator(mask)\n",
    "    return mask, img_color"
   ]
  },
  {
   "cell_type": "code",
   "execution_count": 13,
   "metadata": {},
   "outputs": [],
   "source": [
    "def makingclouds(Genre,frame,col,Words,title):\n",
    "    cloudtext=full_cleaning(Genre,frame,col)\n",
    "    print('Word cloud for',Genre)\n",
    "    word_freq = nltk.FreqDist([i for i in cloudtext.split() if len(i) > 2])\n",
    "    mask, img_color = apply_image_mask(title)\n",
    "    wc = WordCloud(background_color='white',\n",
    "                   font_path = 'font/arial-unicode-ms.ttf',\n",
    "                   max_font_size=75,\n",
    "                   max_words=Words,\n",
    "                   mask = mask,\n",
    "                   random_state=42)\n",
    "    wordcloud = wc.generate_from_frequencies(word_freq)\n",
    "    wordcloud = wordcloud.recolor(color_func=img_color)\n",
    "    plt.figure(figsize=(14, 8))\n",
    "    plt.title('Most popular words in book ' + title + ' ('+ Genre+')', \n",
    "              fontsize=25)\n",
    "    plt.imshow(wordcloud, interpolation=\"bilinear\")\n",
    "    plt.axis(\"off\")"
   ]
  },
  {
   "cell_type": "code",
   "execution_count": 14,
   "metadata": {},
   "outputs": [
    {
     "data": {
      "application/vnd.jupyter.widget-view+json": {
       "model_id": "a690c7d814b94320969046e6eea99ee1",
       "version_major": 2,
       "version_minor": 0
      },
      "text/plain": [
       "interactive(children=(Dropdown(description='Genre', options=('Fiction', 'Romance', 'Fantasy', 'YoungAdult', 'N…"
      ]
     },
     "metadata": {},
     "output_type": "display_data"
    },
    {
     "data": {
      "text/plain": [
       "<function __main__.makingclouds(Genre, frame, col, Words, title)>"
      ]
     },
     "execution_count": 14,
     "metadata": {},
     "output_type": "execute_result"
    }
   ],
   "source": [
    "interact(makingclouds, Genre=genres, df=fixed(df), \n",
    "         col=fixed('description'), Words=[1000, 800, 500, 300],\n",
    "         title=fixed('summaries'), \n",
    "         frame=fixed(df[['genre','description']]))"
   ]
  }
 ],
 "metadata": {
  "kernelspec": {
   "display_name": "Python 3",
   "language": "python",
   "name": "python3"
  },
  "language_info": {
   "codemirror_mode": {
    "name": "ipython",
    "version": 3
   },
   "file_extension": ".py",
   "mimetype": "text/x-python",
   "name": "python",
   "nbconvert_exporter": "python",
   "pygments_lexer": "ipython3",
   "version": "3.8.3"
  }
 },
 "nbformat": 4,
 "nbformat_minor": 4
}
